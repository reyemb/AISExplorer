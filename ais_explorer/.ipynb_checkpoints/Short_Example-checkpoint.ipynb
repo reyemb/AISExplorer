{
 "cells": [
  {
   "cell_type": "markdown",
   "id": "cbfa678a-8155-489a-b78d-c10187b72f9f",
   "metadata": {},
   "source": [
    "<h1>AIS-Explorer</h1>\n",
    "<p>AIS-Explorer is designed to grant free access to AIS-Data </p>\n",
    "<p>Because the data is scraped from https://www.marinetraffic.com please use the functions with care and responsibility</p>\n",
    "<h2>Installing</h2>\n",
    "<p>Installing is as simple as it could be. Just run <code> pip install ais_explorer </code>"
   ]
  },
  {
   "cell_type": "markdown",
   "id": "6767fb84-7de2-4f9d-b777-275909620a33",
   "metadata": {},
   "source": [
    "<h2>Get Location by MMIS</h2>"
   ]
  },
  {
   "cell_type": "code",
   "execution_count": 1,
   "id": "f89f9f93-9cd2-4c10-8a94-cc1ee3eea9db",
   "metadata": {},
   "outputs": [
    {
     "ename": "ModuleNotFoundError",
     "evalue": "No module named 'ais_explorer'",
     "output_type": "error",
     "traceback": [
      "\u001b[1;31m---------------------------------------------------------------------------\u001b[0m",
      "\u001b[1;31mModuleNotFoundError\u001b[0m                       Traceback (most recent call last)",
      "\u001b[1;32m~\\AppData\\Local\\Temp/ipykernel_2792/2530774227.py\u001b[0m in \u001b[0;36m<module>\u001b[1;34m\u001b[0m\n\u001b[1;32m----> 1\u001b[1;33m \u001b[1;32mfrom\u001b[0m \u001b[0mais_explorer\u001b[0m\u001b[1;33m.\u001b[0m\u001b[0mAIS\u001b[0m \u001b[1;32mimport\u001b[0m \u001b[0mget_location\u001b[0m\u001b[1;33m\u001b[0m\u001b[1;33m\u001b[0m\u001b[0m\n\u001b[0m",
      "\u001b[1;31mModuleNotFoundError\u001b[0m: No module named 'ais_explorer'"
     ]
    }
   ],
   "source": [
    "from ais_explorer.AIS import get_location"
   ]
  },
  {
   "cell_type": "code",
   "execution_count": null,
   "id": "bdb20c3e-412a-46b1-99a9-091fbfe3c4a8",
   "metadata": {},
   "outputs": [],
   "source": []
  }
 ],
 "metadata": {
  "kernelspec": {
   "display_name": "Python 3 (ipykernel)",
   "language": "python",
   "name": "python3"
  },
  "language_info": {
   "codemirror_mode": {
    "name": "ipython",
    "version": 3
   },
   "file_extension": ".py",
   "mimetype": "text/x-python",
   "name": "python",
   "nbconvert_exporter": "python",
   "pygments_lexer": "ipython3",
   "version": "3.8.8"
  }
 },
 "nbformat": 4,
 "nbformat_minor": 5
}
