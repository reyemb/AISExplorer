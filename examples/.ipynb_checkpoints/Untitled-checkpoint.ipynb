{
 "cells": [
  {
   "cell_type": "code",
   "execution_count": 1,
   "id": "e1cb413f",
   "metadata": {},
   "outputs": [],
   "source": [
    "import requests"
   ]
  },
  {
   "cell_type": "code",
   "execution_count": 2,
   "id": "360af8fe",
   "metadata": {},
   "outputs": [],
   "source": [
    "from requests import Session"
   ]
  },
  {
   "cell_type": "code",
   "execution_count": 3,
   "id": "45373d02",
   "metadata": {},
   "outputs": [],
   "source": [
    "session = Session()"
   ]
  },
  {
   "cell_type": "code",
   "execution_count": 4,
   "id": "f3d5eb52",
   "metadata": {
    "scrolled": true
   },
   "outputs": [
    {
     "data": {
      "text/plain": [
       "{'Date': 'Sun, 08 Jan 2023 19:02:22 GMT', 'Content-Type': 'text/html', 'Transfer-Encoding': 'chunked', 'Connection': 'keep-alive', 'Cache-Control': 'no-cache', 'CF-Cache-Status': 'EXPIRED', 'Server-Timing': 'cf-q-config;dur=5.9999947552569e-06', 'Vary': 'Accept-Encoding', 'Strict-Transport-Security': 'max-age=15552000; includeSubDomains', 'Server': 'cloudflare', 'CF-RAY': '78672fe8bc119299-FRA', 'Content-Encoding': 'gzip', 'alt-svc': 'h3=\":443\"; ma=86400, h3-29=\":443\"; ma=86400'}"
      ]
     },
     "execution_count": 4,
     "metadata": {},
     "output_type": "execute_result"
    }
   ],
   "source": [
    "response = session.get(\"https://www.marinetraffic.com/en/ais/home/centerx:-12.0/centery:24.9/zoom:4\", json={'user-agent': 'Mozilla/5.0 (Windows NT 10.0; Win64; x64; rv:93.0) Gecko/20100101 Firefox/93.0', \n",
    "                                                                                                               'Accept-Encoding': 'gzip, deflate', \n",
    "                                                                                                               'Accept': '*/*', \n",
    "                                                                                                               'Connection': 'keep-alive', \n",
    "                                                                                                               'Vessel-Image': '005bf958a6548a79c6d3a42eba493e339624'})\n",
    "response.headers"
   ]
  },
  {
   "cell_type": "code",
   "execution_count": 5,
   "id": "f971d1ca",
   "metadata": {},
   "outputs": [],
   "source": [
    "body_str = \"_method=POST&email=m3y3r.bastian%40googlemail.com&password=creatine1&remember=1&rpid=&svn_key=&is_ajax=true&SAMLRequest=&redirect-to=&return_to=\""
   ]
  },
  {
   "cell_type": "code",
   "execution_count": null,
   "id": "627bce17",
   "metadata": {},
   "outputs": [],
   "source": []
  },
  {
   "cell_type": "code",
   "execution_count": 6,
   "id": "8e629f52",
   "metadata": {},
   "outputs": [
    {
     "data": {
      "text/plain": [
       "'{\"status\":\"success\",\"val\":\"success\",\"menu\":\"<ul>\\\\n                <li><a href=\\\\\"\\\\/en\\\\/users\\\\/my_account\\\\/_:4206a99fbda99b118522350043458da6\\\\\" class=\\\\\"my_account\\\\\">My Account<\\\\/a><\\\\/li>\\\\n\\\\t\\\\t\\\\t\\\\t<li><a href=\\\\\"\\\\/en\\\\/p\\\\/plans\\\\/_:4206a99fbda99b118522350043458da6\\\\\" class=\\\\\"upgrade\\\\\">More Services<\\\\/a><\\\\/li>\\\\n\\\\t\\\\t\\\\t\\\\t<li><a href=\\\\\"\\\\/en\\\\/users\\\\/my_account\\\\/_:4206a99fbda99b118522350043458da6\\\\\" class=\\\\\"credits\\\\\">300 Credits<\\\\/a>&nbsp<a class=\\\\\"buy_more\\\\\" href=\\\\\"\\\\/\\\\/online-services\\\\/marinetraffic-credits\\\\\"><img src=\\\\\"\\\\/img\\\\/add_credits.png\\\\\" border=\\\\\"0\\\\\" alt=\\\\\"Buy more credits\\\\\" title=\\\\\"Buy more credits\\\\\" style=\\\\\"position:relative; left:20px; top:4px;\\\\\" \\\\/><\\\\/a><\\\\/li>\\\\n\\\\t\\\\t\\\\t\\\\t<li><a class=\\\\\"logout\\\\\" href=\\\\\"\\\\/en\\\\/users\\\\/logout\\\\/_:4206a99fbda99b118522350043458da6\\\\\">Logout<\\\\/a><\\\\/li>\\\\n\\\\t\\\\t\\\\t<\\\\/ul>\",\"user\":\"Bastian Meyer\",\"userid\":\"5308418\",\"message\":\"Successful login! The page will now refresh.\",\"community_message\":null,\"services\":{\"127\":{\"service_id\":127,\"limits\":{\"service_id\":\"127\",\"period\":\"MONTH\",\"period_amount\":\"1\",\"allowed\":\"30\",\"counter\":\"0\",\"chkint\":\"2023-01-08 17:37:31\",\"use_credits\":\"0\",\"credit_cost\":\"1\",\"credit_counter\":\"0\"},\"skus\":[{\"id\":\"1042\",\"service_id\":\"127\",\"sku\":\"SOLB01\",\"params\":{\"period\":\"month\",\"period_amount\":1,\"allowed\":30,\"counter\":0},\"service_key\":null}]},\"149\":{\"service_id\":149,\"limits\":[],\"skus\":[{\"id\":\"1904\",\"service_id\":\"149\",\"sku\":\"SOLB01\",\"params\":{\"historyLimit\":3,\"maxHistoryQueryTimeSpan\":3,\"maxVesselsAllowed\":1,\"maxVesselsAllowedForNearbyTrafficEnabled\":0},\"service_key\":null}]},\"147\":{\"service_id\":147,\"limits\":[],\"skus\":[{\"id\":\"2000\",\"service_id\":\"147\",\"sku\":\"SOLB01\",\"params\":{\"historyLimit\":3,\"maxHistoryQueryTimeSpan\":3,\"maxVesselsAllowed\":1,\"maxVesselsAllowedForNearbyTrafficEnabled\":0,\"accessToWaypointInformationAllowed\":false},\"service_key\":null}]},\"61\":{\"service_id\":61,\"limits\":{\"service_id\":\"61\",\"period\":\"MONTH\",\"period_amount\":\"1\",\"allowed\":\"0\",\"counter\":\"0\",\"chkint\":\"2023-01-08 17:37:31\",\"use_credits\":\"0\",\"credit_cost\":\"0.01\",\"credit_counter\":\"0\"},\"skus\":[{\"id\":\"2071\",\"service_id\":\"61\",\"sku\":\"SOLB01\",\"params\":null,\"service_key\":null}]},\"144\":{\"service_id\":144,\"limits\":[],\"skus\":[{\"id\":\"1443\",\"service_id\":\"144\",\"sku\":\"SOLB01\",\"params\":null,\"service_key\":null}]},\"108\":{\"service_id\":108,\"limits\":[],\"skus\":[{\"id\":\"1556\",\"service_id\":\"108\",\"sku\":\"SOLB01\",\"params\":[3],\"service_key\":null}]},\"109\":{\"service_id\":109,\"limits\":[],\"skus\":[{\"id\":\"1557\",\"service_id\":\"109\",\"sku\":\"SOLB01\",\"params\":[3],\"service_key\":null}]},\"110\":{\"service_id\":110,\"limits\":[],\"skus\":[{\"id\":\"1558\",\"service_id\":\"110\",\"sku\":\"SOLB01\",\"params\":[3],\"service_key\":null}]},\"8\":{\"service_id\":8,\"limits\":[],\"skus\":[{\"id\":\"1\",\"service_id\":\"8\",\"sku\":\"SOLB01\",\"params\":[5,0],\"service_key\":null}]},\"11\":{\"service_id\":11,\"limits\":[],\"skus\":[{\"id\":\"3\",\"service_id\":\"11\",\"sku\":\"SOLB01\",\"params\":{\"period\":\"month\",\"period_amount\":1,\"allowed\":30,\"counter\":0},\"service_key\":null}]},\"18\":{\"service_id\":18,\"limits\":{\"service_id\":\"18\",\"period\":\"MONTH\",\"period_amount\":\"1\",\"allowed\":\"5\",\"counter\":\"0\",\"chkint\":\"2023-01-08 17:37:31\",\"use_credits\":\"0\",\"credit_cost\":\"1\",\"credit_counter\":\"0\"},\"skus\":[{\"id\":\"4\",\"service_id\":\"18\",\"sku\":\"SOLB01\",\"params\":{\"period\":\"month\",\"period_amount\":1,\"allowed\":5,\"counter\":0},\"service_key\":null}]},\"30\":{\"service_id\":30,\"limits\":[],\"skus\":[{\"id\":\"5\",\"service_id\":\"30\",\"sku\":\"SOLB01\",\"params\":[1,0],\"service_key\":null}]},\"59\":{\"service_id\":59,\"limits\":[],\"skus\":[{\"id\":\"6\",\"service_id\":\"59\",\"sku\":\"SOLB01\",\"params\":{\"period\":\"month\",\"period_amount\":1,\"allowed\":30,\"counter\":0},\"service_key\":null}]},\"62\":{\"service_id\":62,\"limits\":[],\"skus\":[{\"id\":\"7\",\"service_id\":\"62\",\"sku\":\"SOLB01\",\"params\":[1,0],\"service_key\":null}]}},\"settings\":[],\"redirect\":\"\\\\/\",\"cache_buster\":7543,\"plan_name\":null,\"planid\":null,\"ar\":\"no\"}'"
      ]
     },
     "execution_count": 6,
     "metadata": {},
     "output_type": "execute_result"
    }
   ],
   "source": [
    "response = requests.post(\"https://www.marinetraffic.com/en/users/ajax_login\", data=body_str,\n",
    "                         headers={\n",
    "    \"accept\": \"*/*\",\n",
    "    \"accept-language\": \"en-GB,en;q=0.6\",\n",
    "    \"content-type\": \"application/x-www-form-urlencoded; charset=UTF-8\",\n",
    "    \"user-agent\": \"Mozilla/5.0 (Windows NT 10.0; Win64; x64) AppleWebKit/537.36 (KHTML, like Gecko) Chrome/108.0.0.0 Safari/537.36\",\n",
    "    \"vessel-image\": \"001b6192a3cc77daab750f70cab85f527b18\",\n",
    "    \"x-requested-with\": \"XMLHttpRequest\"\n",
    "})\n",
    "response.text"
   ]
  },
  {
   "cell_type": "code",
   "execution_count": 7,
   "id": "f9651f33",
   "metadata": {
    "scrolled": true
   },
   "outputs": [
    {
     "data": {
      "text/plain": [
       "'authTokens=%7B%22access_token%22%3A%22eyJ0eXAiOiJKV1QiLCJhbGciOiJSUzI1NiJ9.eyJqdGkiOiIxNjczMjA0NTQ0LjMwNjUuMzI0ZmU3NWVmN2I4ZTRlMTFlNzgiLCJpc3MiOiJhdXRoLm1hcmluZXRyYWZmaWMuY29tIiwiYXVkIjoibWFyaW5ldHJhZmZpYy5jb20iLCJpYXQiOjE2NzMyMDQ1NDQsIm5iZiI6MTY3MzIwNDU0NCwiZXhwIjoxNjczMjA0ODQ0LCJ1c2VySWQiOjUzMDg0MTh9.UuTdZDvV-fq8X87c2-JS3XwmoPWq97vTgTH878o0sVox7Bcq6kwcLqjrVvv49zPHPh0Eweyo4easYWPKf279EU0TXmoyzhKnqlEySvebHADPyPMqBtGeEcWTr9sQL4svLgHsRc-13INGMcwuJsD9mWfmMqz8Gaxg-QuWscv3I7nzpHFdr3_DfS5ki4JJob8qkG7ncMAFZ8aTTgmetz6ad57-9Jd02YEA9_hRWVbt3pVIxU9aQ0B0bjT_GbCW4WHE5MOTrCcGUW015KN0KDugxKAmyqsCVNQ_YnFQ9mnMOpLjZbTL9pMACm8u70Elb8sw6clf4ONbzwTN17AJ5PEXXF4LYNfZZcQn1J9Nffafvqa2bsre4zGUn-IRjczJYreKWA6pnvCK7_R61D6xyZXim-caaZq77pmJCC2sPwcaIO233hc_afxQav6H3xhVTAAFFP0cHx5Ed4KhJCrpaZaIpxBliBJX7eVmLhQjL7wgylE5QMoaUJa2v7TRrzAUoGrBoW33QUB3PgGJOwm9wijdV9KJoG4jxCHrAb6jQL0_BPHViEFnXZJifvhErKqiLhCBa6U7VTShyegERN34wmQVNhzCWOE8wqokAcwfwEZ5rRQHd8tt9LtYIjvWZpGrnSZUP-_oyQjFX3btzKF3ydtE4JxTN9nuTxfyGBuCrcTSn5Y%22%2C%22refresh_token%22%3A%22F0rMKu8dNqOTexmTNlr02ym4NnSx6ZeReyo8Ud86xaFCyTdBK3kdntwsLsEmgx5qvdwdAkRtoWrpCtGBRMspfu1pZsEVXSW4sPUiaETm8hhbIMuhudWiA1E1HEgdpf03zVpJUu15ADgRp9HwaGK2FvWNuFP40OGNsfQh451cTET7G7skjwpGVIhhGj9SbwwrdtID84jYuLZQJBAAUUCYWSY77HTKTOn8erj68JL47bjVjYOeOppvUH6YwpFEGapySIvfH2cNc2QsIGvDus03Fa2hD8YHkBsppzu5GRujpF8a30CxstgroVFmdDXSY8UufPobL7bOhtsclBUVQqPcPVwkAzn1g3VX0uIJwEYBFg8PPTQ40ncrrEa9njtTtZ66UN0woWJ9eNLWfec15uoOTyMdii4jC7SMyPOgucGqkHDFT5DMzBXYNEvuH7QywRFOkEd9a6FfJ42qxuZlnXk132DZUQgE0qx83u3ufQdU8MY3ToxwLtja41CNNL2iHtrS%22%2C%22expires_in%22%3A300%7D; path=/; secure; HttpOnly, CAKEPHP=q5om2rh8drtc1enco2qm619o22; path=/; domain=marinetraffic.com; HttpOnly, authTokens=%7B%22access_token%22%3A%22eyJ0eXAiOiJKV1QiLCJhbGciOiJSUzI1NiJ9.eyJqdGkiOiIxNjczMjA0NTQ0LjMwNjUuMzI0ZmU3NWVmN2I4ZTRlMTFlNzgiLCJpc3MiOiJhdXRoLm1hcmluZXRyYWZmaWMuY29tIiwiYXVkIjoibWFyaW5ldHJhZmZpYy5jb20iLCJpYXQiOjE2NzMyMDQ1NDQsIm5iZiI6MTY3MzIwNDU0NCwiZXhwIjoxNjczMjA0ODQ0LCJ1c2VySWQiOjUzMDg0MTh9.UuTdZDvV-fq8X87c2-JS3XwmoPWq97vTgTH878o0sVox7Bcq6kwcLqjrVvv49zPHPh0Eweyo4easYWPKf279EU0TXmoyzhKnqlEySvebHADPyPMqBtGeEcWTr9sQL4svLgHsRc-13INGMcwuJsD9mWfmMqz8Gaxg-QuWscv3I7nzpHFdr3_DfS5ki4JJob8qkG7ncMAFZ8aTTgmetz6ad57-9Jd02YEA9_hRWVbt3pVIxU9aQ0B0bjT_GbCW4WHE5MOTrCcGUW015KN0KDugxKAmyqsCVNQ_YnFQ9mnMOpLjZbTL9pMACm8u70Elb8sw6clf4ONbzwTN17AJ5PEXXF4LYNfZZcQn1J9Nffafvqa2bsre4zGUn-IRjczJYreKWA6pnvCK7_R61D6xyZXim-caaZq77pmJCC2sPwcaIO233hc_afxQav6H3xhVTAAFFP0cHx5Ed4KhJCrpaZaIpxBliBJX7eVmLhQjL7wgylE5QMoaUJa2v7TRrzAUoGrBoW33QUB3PgGJOwm9wijdV9KJoG4jxCHrAb6jQL0_BPHViEFnXZJifvhErKqiLhCBa6U7VTShyegERN34wmQVNhzCWOE8wqokAcwfwEZ5rRQHd8tt9LtYIjvWZpGrnSZUP-_oyQjFX3btzKF3ydtE4JxTN9nuTxfyGBuCrcTSn5Y%22%2C%22refresh_token%22%3A%22F0rMKu8dNqOTexmTNlr02ym4NnSx6ZeReyo8Ud86xaFCyTdBK3kdntwsLsEmgx5qvdwdAkRtoWrpCtGBRMspfu1pZsEVXSW4sPUiaETm8hhbIMuhudWiA1E1HEgdpf03zVpJUu15ADgRp9HwaGK2FvWNuFP40OGNsfQh451cTET7G7skjwpGVIhhGj9SbwwrdtID84jYuLZQJBAAUUCYWSY77HTKTOn8erj68JL47bjVjYOeOppvUH6YwpFEGapySIvfH2cNc2QsIGvDus03Fa2hD8YHkBsppzu5GRujpF8a30CxstgroVFmdDXSY8UufPobL7bOhtsclBUVQqPcPVwkAzn1g3VX0uIJwEYBFg8PPTQ40ncrrEa9njtTtZ66UN0woWJ9eNLWfec15uoOTyMdii4jC7SMyPOgucGqkHDFT5DMzBXYNEvuH7QywRFOkEd9a6FfJ42qxuZlnXk132DZUQgE0qx83u3ufQdU8MY3ToxwLtja41CNNL2iHtrS%22%2C%22expires_in%22%3A300%7D; expires=Mon, 23-Jan-2023 19:02:24 GMT; Max-Age=1296000; path=/; secure; HttpOnly, AUTH=EMAIL=m3y3r.bastian@googlemail.com&CHALLENGE=Zr50DJHo956LGSIS0N0O; path=/; domain=.marinetraffic.com; HttpOnly, mt_user[UserID]=5308418; path=/; domain=marinetraffic.com, SERVERID=app9nzs; path=/; domain=.marinetraffic.com'"
      ]
     },
     "execution_count": 7,
     "metadata": {},
     "output_type": "execute_result"
    }
   ],
   "source": [
    "response.headers['Set-Cookie']"
   ]
  },
  {
   "cell_type": "code",
   "execution_count": 8,
   "id": "7f03a137",
   "metadata": {},
   "outputs": [],
   "source": [
    "cookie = response.headers['set-cookie']"
   ]
  },
  {
   "cell_type": "code",
   "execution_count": 9,
   "id": "2e0c697d",
   "metadata": {},
   "outputs": [],
   "source": [
    "response = requests.get(\"https://www.marinetraffic.com/en/search/fleetList\", headers={\n",
    "    \"user-agent\": \"Mozilla/5.0 (Windows NT 10.0; Win64; x64) AppleWebKit/537.36 (KHTML, like Gecko) Chrome/108.0.0.0 Safari/537.36\",\n",
    "    \"vessel-image\": \"001b6192a3cc77daab750f70cab85f527b18\",\n",
    "    \"x-requested-with\": \"XMLHttpRequest\",\n",
    "    \"cookie\": cookie\n",
    "})"
   ]
  },
  {
   "cell_type": "code",
   "execution_count": 10,
   "id": "e80bb582",
   "metadata": {},
   "outputs": [
    {
     "data": {
      "text/plain": [
       "<Response [200]>"
      ]
     },
     "execution_count": 10,
     "metadata": {},
     "output_type": "execute_result"
    }
   ],
   "source": [
    "response"
   ]
  },
  {
   "cell_type": "code",
   "execution_count": 11,
   "id": "c802b95c",
   "metadata": {},
   "outputs": [
    {
     "data": {
      "text/plain": [
       "[]"
      ]
     },
     "execution_count": 11,
     "metadata": {},
     "output_type": "execute_result"
    }
   ],
   "source": [
    "response.json()"
   ]
  },
  {
   "cell_type": "code",
   "execution_count": 12,
   "id": "6466dd20",
   "metadata": {},
   "outputs": [
    {
     "data": {
      "text/plain": [
       "'authTokens=%7B%22access_token%22%3A%22eyJ0eXAiOiJKV1QiLCJhbGciOiJSUzI1NiJ9.eyJqdGkiOiIxNjczMjA0NTQ0LjMwNjUuMzI0ZmU3NWVmN2I4ZTRlMTFlNzgiLCJpc3MiOiJhdXRoLm1hcmluZXRyYWZmaWMuY29tIiwiYXVkIjoibWFyaW5ldHJhZmZpYy5jb20iLCJpYXQiOjE2NzMyMDQ1NDQsIm5iZiI6MTY3MzIwNDU0NCwiZXhwIjoxNjczMjA0ODQ0LCJ1c2VySWQiOjUzMDg0MTh9.UuTdZDvV-fq8X87c2-JS3XwmoPWq97vTgTH878o0sVox7Bcq6kwcLqjrVvv49zPHPh0Eweyo4easYWPKf279EU0TXmoyzhKnqlEySvebHADPyPMqBtGeEcWTr9sQL4svLgHsRc-13INGMcwuJsD9mWfmMqz8Gaxg-QuWscv3I7nzpHFdr3_DfS5ki4JJob8qkG7ncMAFZ8aTTgmetz6ad57-9Jd02YEA9_hRWVbt3pVIxU9aQ0B0bjT_GbCW4WHE5MOTrCcGUW015KN0KDugxKAmyqsCVNQ_YnFQ9mnMOpLjZbTL9pMACm8u70Elb8sw6clf4ONbzwTN17AJ5PEXXF4LYNfZZcQn1J9Nffafvqa2bsre4zGUn-IRjczJYreKWA6pnvCK7_R61D6xyZXim-caaZq77pmJCC2sPwcaIO233hc_afxQav6H3xhVTAAFFP0cHx5Ed4KhJCrpaZaIpxBliBJX7eVmLhQjL7wgylE5QMoaUJa2v7TRrzAUoGrBoW33QUB3PgGJOwm9wijdV9KJoG4jxCHrAb6jQL0_BPHViEFnXZJifvhErKqiLhCBa6U7VTShyegERN34wmQVNhzCWOE8wqokAcwfwEZ5rRQHd8tt9LtYIjvWZpGrnSZUP-_oyQjFX3btzKF3ydtE4JxTN9nuTxfyGBuCrcTSn5Y%22%2C%22refresh_token%22%3A%22F0rMKu8dNqOTexmTNlr02ym4NnSx6ZeReyo8Ud86xaFCyTdBK3kdntwsLsEmgx5qvdwdAkRtoWrpCtGBRMspfu1pZsEVXSW4sPUiaETm8hhbIMuhudWiA1E1HEgdpf03zVpJUu15ADgRp9HwaGK2FvWNuFP40OGNsfQh451cTET7G7skjwpGVIhhGj9SbwwrdtID84jYuLZQJBAAUUCYWSY77HTKTOn8erj68JL47bjVjYOeOppvUH6YwpFEGapySIvfH2cNc2QsIGvDus03Fa2hD8YHkBsppzu5GRujpF8a30CxstgroVFmdDXSY8UufPobL7bOhtsclBUVQqPcPVwkAzn1g3VX0uIJwEYBFg8PPTQ40ncrrEa9njtTtZ66UN0woWJ9eNLWfec15uoOTyMdii4jC7SMyPOgucGqkHDFT5DMzBXYNEvuH7QywRFOkEd9a6FfJ42qxuZlnXk132DZUQgE0qx83u3ufQdU8MY3ToxwLtja41CNNL2iHtrS%22%2C%22expires_in%22%3A300%7D; path=/; secure; HttpOnly, CAKEPHP=q5om2rh8drtc1enco2qm619o22; path=/; domain=marinetraffic.com; HttpOnly, authTokens=%7B%22access_token%22%3A%22eyJ0eXAiOiJKV1QiLCJhbGciOiJSUzI1NiJ9.eyJqdGkiOiIxNjczMjA0NTQ0LjMwNjUuMzI0ZmU3NWVmN2I4ZTRlMTFlNzgiLCJpc3MiOiJhdXRoLm1hcmluZXRyYWZmaWMuY29tIiwiYXVkIjoibWFyaW5ldHJhZmZpYy5jb20iLCJpYXQiOjE2NzMyMDQ1NDQsIm5iZiI6MTY3MzIwNDU0NCwiZXhwIjoxNjczMjA0ODQ0LCJ1c2VySWQiOjUzMDg0MTh9.UuTdZDvV-fq8X87c2-JS3XwmoPWq97vTgTH878o0sVox7Bcq6kwcLqjrVvv49zPHPh0Eweyo4easYWPKf279EU0TXmoyzhKnqlEySvebHADPyPMqBtGeEcWTr9sQL4svLgHsRc-13INGMcwuJsD9mWfmMqz8Gaxg-QuWscv3I7nzpHFdr3_DfS5ki4JJob8qkG7ncMAFZ8aTTgmetz6ad57-9Jd02YEA9_hRWVbt3pVIxU9aQ0B0bjT_GbCW4WHE5MOTrCcGUW015KN0KDugxKAmyqsCVNQ_YnFQ9mnMOpLjZbTL9pMACm8u70Elb8sw6clf4ONbzwTN17AJ5PEXXF4LYNfZZcQn1J9Nffafvqa2bsre4zGUn-IRjczJYreKWA6pnvCK7_R61D6xyZXim-caaZq77pmJCC2sPwcaIO233hc_afxQav6H3xhVTAAFFP0cHx5Ed4KhJCrpaZaIpxBliBJX7eVmLhQjL7wgylE5QMoaUJa2v7TRrzAUoGrBoW33QUB3PgGJOwm9wijdV9KJoG4jxCHrAb6jQL0_BPHViEFnXZJifvhErKqiLhCBa6U7VTShyegERN34wmQVNhzCWOE8wqokAcwfwEZ5rRQHd8tt9LtYIjvWZpGrnSZUP-_oyQjFX3btzKF3ydtE4JxTN9nuTxfyGBuCrcTSn5Y%22%2C%22refresh_token%22%3A%22F0rMKu8dNqOTexmTNlr02ym4NnSx6ZeReyo8Ud86xaFCyTdBK3kdntwsLsEmgx5qvdwdAkRtoWrpCtGBRMspfu1pZsEVXSW4sPUiaETm8hhbIMuhudWiA1E1HEgdpf03zVpJUu15ADgRp9HwaGK2FvWNuFP40OGNsfQh451cTET7G7skjwpGVIhhGj9SbwwrdtID84jYuLZQJBAAUUCYWSY77HTKTOn8erj68JL47bjVjYOeOppvUH6YwpFEGapySIvfH2cNc2QsIGvDus03Fa2hD8YHkBsppzu5GRujpF8a30CxstgroVFmdDXSY8UufPobL7bOhtsclBUVQqPcPVwkAzn1g3VX0uIJwEYBFg8PPTQ40ncrrEa9njtTtZ66UN0woWJ9eNLWfec15uoOTyMdii4jC7SMyPOgucGqkHDFT5DMzBXYNEvuH7QywRFOkEd9a6FfJ42qxuZlnXk132DZUQgE0qx83u3ufQdU8MY3ToxwLtja41CNNL2iHtrS%22%2C%22expires_in%22%3A300%7D; expires=Mon, 23-Jan-2023 19:02:24 GMT; Max-Age=1296000; path=/; secure; HttpOnly, AUTH=EMAIL=m3y3r.bastian@googlemail.com&CHALLENGE=Zr50DJHo956LGSIS0N0O; path=/; domain=.marinetraffic.com; HttpOnly, mt_user[UserID]=5308418; path=/; domain=marinetraffic.com, SERVERID=app9nzs; path=/; domain=.marinetraffic.com'"
      ]
     },
     "execution_count": 12,
     "metadata": {},
     "output_type": "execute_result"
    }
   ],
   "source": [
    "cookie"
   ]
  },
  {
   "cell_type": "code",
   "execution_count": null,
   "id": "357b98b3",
   "metadata": {},
   "outputs": [],
   "source": []
  }
 ],
 "metadata": {
  "kernelspec": {
   "display_name": "Python 3",
   "language": "python",
   "name": "python3"
  },
  "language_info": {
   "codemirror_mode": {
    "name": "ipython",
    "version": 3
   },
   "file_extension": ".py",
   "mimetype": "text/x-python",
   "name": "python",
   "nbconvert_exporter": "python",
   "pygments_lexer": "ipython3",
   "version": "3.10.6"
  }
 },
 "nbformat": 4,
 "nbformat_minor": 5
}
