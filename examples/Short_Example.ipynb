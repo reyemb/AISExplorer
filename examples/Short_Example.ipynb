{
 "cells": [
  {
   "cell_type": "markdown",
   "id": "cbfa678a-8155-489a-b78d-c10187b72f9f",
   "metadata": {},
   "source": [
    "<h1>AIS-Explorer</h1>\n",
    "<p>AIS-Explorer is designed to grant free access to AIS-Data </p>\n",
    "<p>Because the data is scraped from https://www.marinetraffic.com please use the functions with care and responsibility</p>\n",
    "<h2>Installing</h2>\n",
    "<p>Installing is as simple as it could be. Just run <code> pip install ais_explorer </code>"
   ]
  },
  {
   "cell_type": "markdown",
   "id": "6767fb84-7de2-4f9d-b777-275909620a33",
   "metadata": {},
   "source": [
    "<h2>Get Location by MMIS</h2>\n",
    "<p>Returns a dictionary or pandas DataFrame containing the requested data. </p>\n",
    "<p>Without cetting the parameter columns or columns_excluded all data will be fetched </p>"
   ]
  },
  {
   "cell_type": "code",
   "execution_count": null,
   "id": "f89f9f93-9cd2-4c10-8a94-cc1ee3eea9db",
   "metadata": {
    "pycharm": {
     "is_executing": true
    }
   },
   "outputs": [],
   "source": [
    "from aisexplorer.AIS import AIS\n",
    "from aisexplorer.Utils.Utility import set_types_df\n"
   ]
  },
  {
   "cell_type": "code",
   "execution_count": null,
   "id": "e393302e-20bb-4ca1-8384-5d530fb87643",
   "metadata": {
    "pycharm": {
     "is_executing": true
    }
   },
   "outputs": [],
   "source": [
    "AIS().get_location(211281610)"
   ]
  },
  {
   "cell_type": "code",
   "execution_count": null,
   "id": "bdb20c3e-412a-46b1-99a9-091fbfe3c4a8",
   "metadata": {
    "pycharm": {
     "is_executing": true
    }
   },
   "outputs": [],
   "source": [
    "AIS(return_df=True).get_location(211281610)"
   ]
  },
  {
   "cell_type": "markdown",
   "id": "d39b25f6-10a6-4f8c-85e1-e8021b77b07b",
   "metadata": {},
   "source": [
    "<h2>Get AREA by area name </h2>\n",
    "<p>Returns a list of dictionaries or a pandas DataFrame</p>\n",
    "<p>You can see all the area names and the corresponding areas on https://help.marinetraffic.com/hc/en-us/articles/214556408-Areas-of-the-World-How-does-MarineTraffic-segment-them- </p>\n",
    "<p><strong> Maximum 500 rows </strong></p>"
   ]
  },
  {
   "cell_type": "code",
   "execution_count": null,
   "id": "84191eff-f2db-441a-a734-ad886ec0e2ea",
   "metadata": {
    "pycharm": {
     "is_executing": true
    }
   },
   "outputs": [],
   "source": [
    "AIS().get_area_data(\"EMED\"); # remove semicolon to see output"
   ]
  },
  {
   "cell_type": "code",
   "execution_count": null,
   "id": "1c23210f-c346-442f-9401-1b08eeba19f7",
   "metadata": {
    "pycharm": {
     "is_executing": true
    }
   },
   "outputs": [],
   "source": [
    "AIS(return_df=True).get_area_data(\"EMED\")"
   ]
  },
  {
   "cell_type": "markdown",
   "source": [
    "<h2> Use Proxies </h2>"
   ],
   "metadata": {
    "collapsed": false,
    "pycharm": {
     "name": "#%% md\n"
    }
   }
  },
  {
   "cell_type": "code",
   "execution_count": 1,
   "outputs": [
    {
     "data": {
      "text/plain": "{'https': '20.103.139.62:3128'}"
     },
     "execution_count": 1,
     "metadata": {},
     "output_type": "execute_result"
    }
   ],
   "source": [
    "from aisexplorer.Proxy import FreeProxy\n",
    "\n",
    "proxy = FreeProxy()\n",
    "proxy.get()"
   ],
   "metadata": {
    "collapsed": false,
    "pycharm": {
     "name": "#%%\n"
    }
   }
  },
  {
   "cell_type": "markdown",
   "source": [
    "<h2> Use Proxies directly with AIS </h2>"
   ],
   "metadata": {
    "collapsed": false,
    "pycharm": {
     "name": "#%% md\n"
    }
   }
  },
  {
   "cell_type": "code",
   "execution_count": null,
   "outputs": [],
   "source": [
    "AIS(proxy=True, return_df=True, verbose=True).get_area_data(\"EMED\")"
   ],
   "metadata": {
    "collapsed": false,
    "pycharm": {
     "name": "#%%\n",
     "is_executing": true
    }
   }
  },
  {
   "cell_type": "markdown",
   "source": [
    "<h2> Use Filters </h2>"
   ],
   "metadata": {
    "collapsed": false,
    "pycharm": {
     "name": "#%% md\n"
    }
   }
  },
  {
   "cell_type": "code",
   "execution_count": null,
   "outputs": [],
   "source": [
    "ais = AIS(proxy=True, return_df=True, return_total_count=True, verbose=True, print_query=True)\n",
    "\n",
    "ais.set_filters(filter_config={\n",
    "    'latest_report': [360, 525600],\n",
    "    'lon': [-18, -4],\n",
    "    'lat': [30, 31]\n",
    "})\n",
    "df, return_total_count = ais.get_area_data(\"UKC\")\n",
    "df"
   ],
   "metadata": {
    "collapsed": false,
    "pycharm": {
     "name": "#%%\n",
     "is_executing": true
    }
   }
  },
  {
   "cell_type": "code",
   "execution_count": null,
   "outputs": [],
   "source": [
    "df, return_total_count = ais.get_data()\n",
    "df"
   ],
   "metadata": {
    "collapsed": false,
    "pycharm": {
     "name": "#%%\n",
     "is_executing": true
    }
   }
  }
 ],
 "metadata": {
  "kernelspec": {
   "display_name": "Python 3 (ipykernel)",
   "language": "python",
   "name": "python3"
  },
  "language_info": {
   "codemirror_mode": {
    "name": "ipython",
    "version": 3
   },
   "file_extension": ".py",
   "mimetype": "text/x-python",
   "name": "python",
   "nbconvert_exporter": "python",
   "pygments_lexer": "ipython3",
   "version": "3.8.8"
  }
 },
 "nbformat": 4,
 "nbformat_minor": 5
}